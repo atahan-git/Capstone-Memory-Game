{
 "cells": [
  {
   "cell_type": "code",
   "execution_count": 35,
   "metadata": {},
   "outputs": [
    {
     "name": "stdout",
     "output_type": "stream",
     "text": [
      "bunboogu stationery ​\n",
      "e [Note: へ is normally read he, but when used as this particle its reading changes to e] to\n",
      "tsutsu [similar to ながら but has different tone, and both actions have equal weight] ongoing occurrence\n"
     ]
    }
   ],
   "source": [
    "from lxml import html\n",
    "import requests\n",
    "import csv\n",
    "\n",
    "page = requests.get('https://en.wiktionary.org/wiki/Appendix:1000_Japanese_basic_words')\n",
    "doc  = html.fromstring(page.content)\n",
    "\n",
    "headlines = doc.xpath('//span[@class=\"mw-headline\"]')\n",
    "\n",
    "def word_cleaner (word):\n",
    "    word = word.replace(\")\", \"\")\n",
    "    word = word.replace(\"ō\",\"oo\").replace(\"ī\",\"ii\").replace(\"ā\",\"aa\").replace(\"ū\",\"uu\").replace(\"ē\", \"ee\")\n",
    "    word = word.strip()\n",
    "    return word\n",
    "\n",
    "for part in headlines:\n",
    "    tag = str(part.getparent())\n",
    "    if\"h3\" in tag or \"h4\" in tag:\n",
    "        if(\"Human made objects\" in part.getparent().text_content()):\n",
    "            continue\n",
    "\n",
    "        filename = (part.getparent().text_content())\n",
    "        with open(\"csvs\\\\\" + filename + \".csv\", 'w', newline='') as file:\n",
    "            writer = csv.writer(file, delimiter =';', quoting=csv.QUOTE_NONE, escapechar='\\\\')\n",
    "            for line in (part.getparent().getnext()):\n",
    "                text = line.text_content()\n",
    "\n",
    "                if(\"# -gatsu\" in text or \"Last year: kyonen,\" in text or \"Yesterday morning:\" in text or \"(Last week: senshū, t\" in text):\n",
    "                    continue\n",
    "\n",
    "                if(\"–\" in text):\n",
    "                    text = text.split(\"–\")\n",
    "                else:\n",
    "                    text = text.split(\"-\")\n",
    "\n",
    "                if(len(text) <= 1):\n",
    "                    print(text)\n",
    "\n",
    "                text = text[1]\n",
    "                text = text.split(\"(\")\n",
    "\n",
    "                if(\"te form of verb or adjective\" in text[0]):\n",
    "                    continue\n",
    "\n",
    "\n",
    "                if(len(text) <= 1):\n",
    "                    print(text)\n",
    "\n",
    "                word = text[1]\n",
    "                meaning = text[0]\n",
    "                word = word_cleaner(word)\n",
    "                meaning = word_cleaner(meaning)\n",
    "                try:\n",
    "                    writer.writerow([word, meaning])\n",
    "                except:\n",
    "                    print(word,meaning)"
   ]
  },
  {
   "cell_type": "markdown",
   "metadata": {},
   "source": [
    "# csv to json"
   ]
  },
  {
   "cell_type": "code",
   "execution_count": 36,
   "metadata": {},
   "outputs": [],
   "source": [
    "from os import listdir\n",
    "from os.path import isfile, join\n",
    "import csv, json\n",
    "\n",
    "mypath = \"csvs\"\n",
    "onlyfiles = [f for f in listdir(mypath) if isfile(join(mypath, f))]\n",
    "\n",
    "for file in onlyfiles:\n",
    "    file = file.split(\".\")[0]\n",
    "    csvPath = \"csvs\\\\\" + file + \".csv\"\n",
    "\n",
    "    data = {\"wordPackName\": file}\n",
    "\n",
    "    words = []\n",
    "\n",
    "    with open(csvPath) as csvFile:\n",
    "        reader = csv.reader(csvFile, delimiter =';', quoting=csv.QUOTE_NONE, escapechar='\\\\')\n",
    "        for rows in reader:\n",
    "            words.append({\"word\" : rows[0], \"meaning\" : rows[1]})\n",
    "            #print(rows)\n",
    "\n",
    "    data[\"wordPairs\"] = words\n",
    "    data[\"$type\"] = \"WordPack\"\n",
    "\n",
    "    jsonPath = \"jsons\\\\\" + file + \".json\"\n",
    "    \n",
    "    with open(jsonPath, \"w\") as jsonFile:\n",
    "        jsonFile.write(json.dumps(data,indent=4))"
   ]
  }
 ],
 "metadata": {
  "interpreter": {
   "hash": "428e20a27c38279833cc8359e71f8a4672331ce87df171a6be9c1f63e1ddeb89"
  },
  "kernelspec": {
   "display_name": "Python 3.9.7 64-bit (windows store)",
   "language": "python",
   "name": "python3"
  },
  "language_info": {
   "codemirror_mode": {
    "name": "ipython",
    "version": 3
   },
   "file_extension": ".py",
   "mimetype": "text/x-python",
   "name": "python",
   "nbconvert_exporter": "python",
   "pygments_lexer": "ipython3",
   "version": "3.9.7"
  },
  "orig_nbformat": 4
 },
 "nbformat": 4,
 "nbformat_minor": 2
}
